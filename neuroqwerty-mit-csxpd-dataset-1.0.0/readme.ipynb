{
 "cells": [
  {
   "cell_type": "markdown",
   "metadata": {},
   "source": [
    "# Datasets Description"
   ]
  },
  {
   "cell_type": "markdown",
   "metadata": {},
   "source": [
    "This IPython Notebook describes the two datasets presented in: \n",
    "\n",
    "> L. Giancardo, A. Sánchez-Ferro, T. Arroyo-Gallego, I. Butterworth, C. S. Mendoza, P. Montero, M. Matarazzo, J. A. Obeso, M. L. Gray & R. San José Estépar. Computer keyboard interaction as an indicator of early Parkinson's disease. Sci. Rep. 6, 34468; doi: 10.1038/srep34468 (2016)\n",
    "\n",
    "The Early Parkinson's Disease dataset is referred as MIT-CS1PD; the De-Novo Parkinson's Disease dataset is  referred as MIT-CS2PD. It also shows how to load timepress data from the datasets.\n",
    "\n",
    "These datasets have been collected thanks to the financial support by the Comunidad de Madrid, Fundacion Ramon Areces and The Michael J Fox Foundation for Parkinson's research (grant number 10860). We thank the M + Vision faculty for their guidance in developing this project. We also thank our many clinical collaborators at MGH in Boston, at “12 de Octubre”, Hospital Clinico and Centro Integral en Neurociencias HM CINAC in Madrid for their insightful contributions.\n",
    "\n",
    "This notebook requires:\n",
    "- Python 2.7\n",
    "- IPython\n",
    "- Pandas\n",
    "- Numpy\n",
    "- Matplotlib"
   ]
  },
  {
   "cell_type": "markdown",
   "metadata": {},
   "source": [
    "## PD_MIT-CS1PD dataset"
   ]
  },
  {
   "cell_type": "markdown",
   "metadata": {},
   "source": [
    "The MIT_CS1PD dataset includes the typing information collected on a population sample of 31 subjects,\n",
    "13 healthy controls and 18 Parkinson’s disease (PD) sufferers. The subjects were recruited from two\n",
    "movement disorder units in Madrid (Spain) following the institutional protocols approved by the\n",
    "Massachusetts Institute of Technology, USA (Committee on the Use of Humans as Experimental Subjects\n",
    "approval no. 1402006203), Hospital 12 de Octubre, Spain (no. CEIC:14/090) and Hospital Clinico San\n",
    "Carlos, Spain (no. 14/136-E).\n",
    "\n",
    "Each data file includes the timing information collected during two sessions of typing activity using a\n",
    "standard word processor on a Lenovo G50-70 i3-4005U with 4MB of memory and a 15 inches screen\n",
    "running Manjaro Linux. Subjects were instructed to type as they normally would do at home and they\n",
    "were left free to correct typing mistakes only if they wanted to. The key acquisition software presented\n",
    "a temporal resolution of 3/0.28 (mean/std) milliseconds.\n",
    "\n",
    "\n",
    "Subjects were asked to visit a movement disorder unit twice to complete the study. Clinical evaluation\n",
    "includes UPDRS and finger tapping tests.\n",
    "\n",
    "Usage policy\n",
    "---------\n",
    "---------\n",
    "\n",
    "This dataset is free to use for research purposes only. We encourage researchers to try\n",
    "new computational algorithms on these data. Any time MIT_CS1PD is used for publishing or presenting the following publication needs to be referenced \n",
    "\n",
    "> L. Giancardo, A. Sánchez-Ferro, T. Arroyo-Gallego, I. Butterworth, C. S. Mendoza, P. Montero, M. Matarazzo, J. A. Obeso, M. L. Gray & R. San José Estépar. Computer keyboard interaction as an indicator of early Parkinson's disease. Sci. Rep. 6, 34468; doi: 10.1038/srep34468 (2016)\n"
   ]
  },
  {
   "cell_type": "markdown",
   "metadata": {},
   "source": [
    "### Ground truth loading"
   ]
  },
  {
   "cell_type": "markdown",
   "metadata": {},
   "source": [
    "The ground truth used to describe motor impairment on each participant. The GT value discriminate the two classes in the sample population (CNT-False and PD-True). The results of the clinical evaluation, UPDRS-\n",
    "III, alternating finger tapping, single key tapping, neuroQWERTY score and typing speed are\n",
    "included in updrs108, afTap, sTap, nqScore, typingSpeed, respectively.\n",
    "\n",
    "Columns file_1 and file_2 correspond to the first and second repetition"
   ]
  },
  {
   "cell_type": "code",
   "execution_count": 2,
   "metadata": {
    "collapsed": false
   },
   "outputs": [
    {
     "ename": "ModuleNotFoundError",
     "evalue": "No module named 'nqDataLoader'",
     "output_type": "error",
     "traceback": [
      "\u001b[0;31m---------------------------------------------------------------------------\u001b[0m",
      "\u001b[0;31mModuleNotFoundError\u001b[0m                       Traceback (most recent call last)",
      "Cell \u001b[0;32mIn[2], line 4\u001b[0m\n\u001b[1;32m      2\u001b[0m \u001b[38;5;28;01mimport\u001b[39;00m \u001b[38;5;21;01mnumpy\u001b[39;00m \u001b[38;5;28;01mas\u001b[39;00m \u001b[38;5;21;01mnp\u001b[39;00m\n\u001b[1;32m      3\u001b[0m \u001b[38;5;28;01mimport\u001b[39;00m \u001b[38;5;21;01mmatplotlib\u001b[39;00m\u001b[38;5;21;01m.\u001b[39;00m\u001b[38;5;21;01mpyplot\u001b[39;00m \u001b[38;5;28;01mas\u001b[39;00m \u001b[38;5;21;01mplt\u001b[39;00m\n\u001b[0;32m----> 4\u001b[0m \u001b[38;5;28;01mimport\u001b[39;00m \u001b[38;5;21;01mnqDataLoader\u001b[39;00m \u001b[38;5;28;01mas\u001b[39;00m \u001b[38;5;21;01mnq\u001b[39;00m\n",
      "\u001b[0;31mModuleNotFoundError\u001b[0m: No module named 'nqDataLoader'"
     ]
    }
   ],
   "source": [
    "import pandas as pd\n",
    "import numpy as np\n",
    "import matplotlib.pyplot as plt\n",
    "import nqDataLoader as nq #data loading library"
   ]
  },
  {
   "cell_type": "code",
   "execution_count": null,
   "metadata": {
    "collapsed": false,
    "scrolled": true
   },
   "outputs": [
    {
     "data": {
      "text/html": [
       "<div>\n",
       "<table border=\"1\" class=\"dataframe\">\n",
       "  <thead>\n",
       "    <tr style=\"text-align: right;\">\n",
       "      <th></th>\n",
       "      <th>gt</th>\n",
       "      <th>updrs108</th>\n",
       "      <th>afTap</th>\n",
       "      <th>sTap</th>\n",
       "      <th>nqScore</th>\n",
       "      <th>typingSpeed</th>\n",
       "      <th>file_1</th>\n",
       "      <th>file_2</th>\n",
       "    </tr>\n",
       "    <tr>\n",
       "      <th>pID</th>\n",
       "      <th></th>\n",
       "      <th></th>\n",
       "      <th></th>\n",
       "      <th></th>\n",
       "      <th></th>\n",
       "      <th></th>\n",
       "      <th></th>\n",
       "      <th></th>\n",
       "    </tr>\n",
       "  </thead>\n",
       "  <tbody>\n",
       "    <tr>\n",
       "      <th>11</th>\n",
       "      <td>True</td>\n",
       "      <td>14.25</td>\n",
       "      <td>NaN</td>\n",
       "      <td>162.25</td>\n",
       "      <td>0.117543</td>\n",
       "      <td>189.372549</td>\n",
       "      <td>1402930351.011_001_014.csv</td>\n",
       "      <td>1403706430.011_003_014.csv</td>\n",
       "    </tr>\n",
       "    <tr>\n",
       "      <th>60</th>\n",
       "      <td>False</td>\n",
       "      <td>2.00</td>\n",
       "      <td>NaN</td>\n",
       "      <td>162.25</td>\n",
       "      <td>0.070350</td>\n",
       "      <td>60.533333</td>\n",
       "      <td>1402932300.060_001_014.csv</td>\n",
       "      <td>1403708258.060_003_014.csv</td>\n",
       "    </tr>\n",
       "    <tr>\n",
       "      <th>67</th>\n",
       "      <td>True</td>\n",
       "      <td>25.25</td>\n",
       "      <td>NaN</td>\n",
       "      <td>133.75</td>\n",
       "      <td>0.223411</td>\n",
       "      <td>54.333333</td>\n",
       "      <td>1401117235.067_001_014.csv</td>\n",
       "      <td>1401978395.067_003_014.csv</td>\n",
       "    </tr>\n",
       "    <tr>\n",
       "      <th>68</th>\n",
       "      <td>False</td>\n",
       "      <td>6.00</td>\n",
       "      <td>NaN</td>\n",
       "      <td>159.00</td>\n",
       "      <td>0.074973</td>\n",
       "      <td>71.800000</td>\n",
       "      <td>1401114972.068_001_014.csv</td>\n",
       "      <td>1401980765.068_003_014.csv</td>\n",
       "    </tr>\n",
       "    <tr>\n",
       "      <th>70</th>\n",
       "      <td>True</td>\n",
       "      <td>26.25</td>\n",
       "      <td>NaN</td>\n",
       "      <td>113.50</td>\n",
       "      <td>0.175751</td>\n",
       "      <td>39.614035</td>\n",
       "      <td>1404311419.070_001_014.csv</td>\n",
       "      <td>1404743687.070_003_014.csv</td>\n",
       "    </tr>\n",
       "  </tbody>\n",
       "</table>\n",
       "</div>"
      ],
      "text/plain": [
       "        gt  updrs108  afTap    sTap   nqScore  typingSpeed  \\\n",
       "pID                                                          \n",
       "11    True     14.25    NaN  162.25  0.117543   189.372549   \n",
       "60   False      2.00    NaN  162.25  0.070350    60.533333   \n",
       "67    True     25.25    NaN  133.75  0.223411    54.333333   \n",
       "68   False      6.00    NaN  159.00  0.074973    71.800000   \n",
       "70    True     26.25    NaN  113.50  0.175751    39.614035   \n",
       "\n",
       "                         file_1                      file_2  \n",
       "pID                                                          \n",
       "11   1402930351.011_001_014.csv  1403706430.011_003_014.csv  \n",
       "60   1402932300.060_001_014.csv  1403708258.060_003_014.csv  \n",
       "67   1401117235.067_001_014.csv  1401978395.067_003_014.csv  \n",
       "68   1401114972.068_001_014.csv  1401980765.068_003_014.csv  \n",
       "70   1404311419.070_001_014.csv  1404743687.070_003_014.csv  "
      ]
     },
     "execution_count": 68,
     "metadata": {},
     "output_type": "execute_result"
    }
   ],
   "source": [
    "# load ground Ground Truth \n",
    "ground_1 = pd.read_csv( 'MIT-CS1PD/GT_DataPD_MIT-CS1PD.csv' )\n",
    "# set Patient ID as index\n",
    "ground_1 = ground_1.set_index('pID')\n",
    "# show part of Data Frame\n",
    "ground_1.head()"
   ]
  },
  {
   "cell_type": "markdown",
   "metadata": {},
   "source": [
    "In here it is shown how to load the typing data"
   ]
  },
  {
   "cell_type": "code",
   "execution_count": 66,
   "metadata": {
    "collapsed": false
   },
   "outputs": [],
   "source": [
    "# load typing data for patient 60 (first repetition)\n",
    "# this method automatically filters out meta keys, mouse presses and backspace\n",
    "keyPressed, htArr, pressArr, releaseArr = \\\n",
    "            nq.getDataFiltHelper( 'MIT-CS1PD/data_MIT-CS1PD/' + cs1PdFr.loc[60]['file_1'])"
   ]
  },
  {
   "cell_type": "markdown",
   "metadata": {},
   "source": [
    "here we diplay the raw hold time"
   ]
  },
  {
   "cell_type": "code",
   "execution_count": 67,
   "metadata": {
    "collapsed": false
   },
   "outputs": [
    {
     "data": {
      "image/png": "[encoded data removed]",
      "text/plain": [
       "<matplotlib.figure.Figure at 0x7fb2b1898310>"
      ]
     },
     "metadata": {},
     "output_type": "display_data"
    }
   ],
   "source": [
    "def plotRawHT(pressArrIn, htArrIn, maxWinID=3):\n",
    "    winSize = 90\n",
    "    lblfSize = 24\n",
    "    plt.figure()\n",
    "    plt.ion()\n",
    "    plt.plot( pressArrIn, htArrIn, '.' )\n",
    "    plt.ylim(0,0.49)\n",
    "    plt.xticks( range( 0, np.int(np.max(pressArrIn)), winSize ) )\n",
    "#     rmBorder( plt.gca() )\n",
    "    plt.xlabel( '$t$', fontsize=lblfSize )\n",
    "    plt.ylabel( 'Hold time, $a[t]$', fontsize=lblfSize )\n",
    "    plt.show()\n",
    "    \n",
    "\n",
    "plotRawHT( pressArr, htArr  )"
   ]
  },
  {
   "cell_type": "markdown",
   "metadata": {},
   "source": [
    "## PD_MIT-CS2PD dataset"
   ]
  },
  {
   "cell_type": "markdown",
   "metadata": {},
   "source": [
    "The MIT_CS2PD dataset includes the typing information collected on a population sample of 54 subjects,\n",
    "30 healthy controls and 24 Parkinson’s disease (PD) sufferers. The subjects were recruited from two\n",
    "movement disorder units in Madrid (Spain) following the institutional protocols approved by the\n",
    "Massachusetts Institute of Technology, USA (Committee on the Use of Humans as Experimental Subjects\n",
    "approval no. 1402006203), Hospital 12 de Octubre, Spain (no. CEIC:14/090) and Hospital Clinico San\n",
    "Carlos, Spain (no. 14/136-E).\n",
    "\n",
    "Each data file includes the timing information collected during a session of typing activity using a\n",
    "standard word processor on a Lenovo G50-70 i3-4005U with 4MB of memory and a 15 inches screen\n",
    "running Manjaro Linux. Subjects were instructed to type as they normally would do at home and they\n",
    "were left free to correct typing mistakes only if they wanted to. The key acquisition software presented\n",
    "a temporal resolution of 3/0.28 (mean/std) milliseconds. Clinical evaluation includes UPDRS and finger tap\n",
    "\n",
    "\n",
    "Subjects were asked to visit a movement disorder unit once to complete the study. Clinical evaluation\n",
    "includes UPDRS and finger tapping tests.\n",
    "\n",
    "Usage policy\n",
    "---------\n",
    "---------\n",
    "\n",
    "This dataset is free to use for research purposes only. We encourage researchers to try\n",
    "new computational algorithms on these data. Any time MIT_CS1PD is used for publishing or presenting the following publication needs to be referenced \n",
    "\n",
    "> L. Giancardo, A. Sánchez-Ferro, T. Arroyo-Gallego, I. Butterworth, C. S. Mendoza, P. Montero, M. Matarazzo, J. A. Obeso, M. L. Gray & R. San José Estépar. Computer keyboard interaction as an indicator of early Parkinson's disease. Sci. Rep. 6, 34468; doi: 10.1038/srep34468 (2016)\n"
   ]
  },
  {
   "cell_type": "markdown",
   "metadata": {},
   "source": [
    "### Ground truth loading"
   ]
  },
  {
   "cell_type": "markdown",
   "metadata": {},
   "source": [
    "The ground truth used to describe motor impairment on each participant. The GT value discriminate the two classes in the sample population (CNT-False and PD-True). The results of the clinical evaluation, UPDRS-\n",
    "III, alternating finger tapping, single key tapping, neuroQWERTY score and typing speed are\n",
    "included in updrs108, afTap, sTap, nqScore, typingSpeed, respectively."
   ]
  },
  {
   "cell_type": "code",
   "execution_count": 78,
   "metadata": {
    "collapsed": false,
    "scrolled": true
   },
   "outputs": [
    {
     "data": {
      "text/html": [
       "<div>\n",
       "<table border=\"1\" class=\"dataframe\">\n",
       "  <thead>\n",
       "    <tr style=\"text-align: right;\">\n",
       "      <th></th>\n",
       "      <th>gt</th>\n",
       "      <th>updrs108</th>\n",
       "      <th>afTap</th>\n",
       "      <th>sTap</th>\n",
       "      <th>nqScore</th>\n",
       "      <th>typingSpeed</th>\n",
       "      <th>file_1</th>\n",
       "    </tr>\n",
       "    <tr>\n",
       "      <th>pID</th>\n",
       "      <th></th>\n",
       "      <th></th>\n",
       "      <th></th>\n",
       "      <th></th>\n",
       "      <th></th>\n",
       "      <th></th>\n",
       "      <th></th>\n",
       "    </tr>\n",
       "  </thead>\n",
       "  <tbody>\n",
       "    <tr>\n",
       "      <th>1000</th>\n",
       "      <td>True</td>\n",
       "      <td>27</td>\n",
       "      <td>79.0</td>\n",
       "      <td>184.5</td>\n",
       "      <td>0.107179</td>\n",
       "      <td>56.866667</td>\n",
       "      <td>1424946827.1000_001_014.csv</td>\n",
       "    </tr>\n",
       "    <tr>\n",
       "      <th>1001</th>\n",
       "      <td>True</td>\n",
       "      <td>16</td>\n",
       "      <td>96.5</td>\n",
       "      <td>189.0</td>\n",
       "      <td>0.056286</td>\n",
       "      <td>118.000000</td>\n",
       "      <td>1427279751.1001_001_014.csv</td>\n",
       "    </tr>\n",
       "    <tr>\n",
       "      <th>1002</th>\n",
       "      <td>False</td>\n",
       "      <td>5</td>\n",
       "      <td>140.0</td>\n",
       "      <td>158.0</td>\n",
       "      <td>0.039519</td>\n",
       "      <td>119.037037</td>\n",
       "      <td>1426676689.1002_001_014.csv</td>\n",
       "    </tr>\n",
       "    <tr>\n",
       "      <th>1004</th>\n",
       "      <td>True</td>\n",
       "      <td>22</td>\n",
       "      <td>83.5</td>\n",
       "      <td>191.5</td>\n",
       "      <td>0.034853</td>\n",
       "      <td>74.266667</td>\n",
       "      <td>1429866367.1004_001_014.csv</td>\n",
       "    </tr>\n",
       "    <tr>\n",
       "      <th>1005</th>\n",
       "      <td>True</td>\n",
       "      <td>17</td>\n",
       "      <td>68.0</td>\n",
       "      <td>150.0</td>\n",
       "      <td>0.048307</td>\n",
       "      <td>74.969697</td>\n",
       "      <td>1430134526.1005_001_014.csv</td>\n",
       "    </tr>\n",
       "  </tbody>\n",
       "</table>\n",
       "</div>"
      ],
      "text/plain": [
       "         gt  updrs108  afTap   sTap   nqScore  typingSpeed  \\\n",
       "pID                                                          \n",
       "1000   True        27   79.0  184.5  0.107179    56.866667   \n",
       "1001   True        16   96.5  189.0  0.056286   118.000000   \n",
       "1002  False         5  140.0  158.0  0.039519   119.037037   \n",
       "1004   True        22   83.5  191.5  0.034853    74.266667   \n",
       "1005   True        17   68.0  150.0  0.048307    74.969697   \n",
       "\n",
       "                           file_1  \n",
       "pID                                \n",
       "1000  1424946827.1000_001_014.csv  \n",
       "1001  1427279751.1001_001_014.csv  \n",
       "1002  1426676689.1002_001_014.csv  \n",
       "1004  1429866367.1004_001_014.csv  \n",
       "1005  1430134526.1005_001_014.csv  "
      ]
     },
     "execution_count": 78,
     "metadata": {},
     "output_type": "execute_result"
    }
   ],
   "source": [
    "# load ground Ground Truth \n",
    "cs2PdFr = pd.read_csv( 'MIT-CS2PD/GT_DataPD_MIT-CS2PD.csv' )\n",
    "# set Patient ID as index\n",
    "cs2PdFr = cs2PdFr.set_index('pID')\n",
    "# show part of Data Frame\n",
    "cs2PdFr.head()"
   ]
  },
  {
   "cell_type": "markdown",
   "metadata": {},
   "source": [
    "In here it is shown how to load the typing data"
   ]
  },
  {
   "cell_type": "code",
   "execution_count": 79,
   "metadata": {
    "collapsed": false
   },
   "outputs": [],
   "source": [
    "# load typing data for patient 1000\n",
    "# this method automatically filters out meta keys, mouse presses and backspace\n",
    "keyPressed, htArr, pressArr, releaseArr = \\\n",
    "            nq.getDataFiltHelper( 'MIT-CS2PD/data_MIT-CS2PD/' + cs2PdFr.loc[1000]['file_1'])"
   ]
  },
  {
   "cell_type": "markdown",
   "metadata": {},
   "source": [
    "here we diplay the raw hold time"
   ]
  },
  {
   "cell_type": "code",
   "execution_count": 80,
   "metadata": {
    "collapsed": false
   },
   "outputs": [
    {
     "data": {
      "image/png": "[encoded data removed]",
      "text/plain": [
       "<matplotlib.figure.Figure at 0x7fb2b19253d0>"
      ]
     },
     "metadata": {},
     "output_type": "display_data"
    }
   ],
   "source": [
    "plotRawHT( pressArr, htArr  )"
   ]
  }
 ],
 "metadata": {
  "kernelspec": {
   "display_name": "base",
   "language": "python",
   "name": "python3"
  },
  "language_info": {
   "codemirror_mode": {
    "name": "ipython",
    "version": 3
   },
   "file_extension": ".py",
   "mimetype": "text/x-python",
   "name": "python",
   "nbconvert_exporter": "python",
   "pygments_lexer": "ipython3",
   "version": "3.12.2"
  }
 },
 "nbformat": 4,
 "nbformat_minor": 0
}
